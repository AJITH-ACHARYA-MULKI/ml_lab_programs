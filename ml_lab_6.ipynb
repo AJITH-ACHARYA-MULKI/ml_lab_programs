{
 "cells": [
  {
   "cell_type": "code",
   "execution_count": 3,
   "metadata": {},
   "outputs": [
    {
     "name": "stdout",
     "output_type": "stream",
     "text": [
      "The dimensions of the dataset (18, 2)\n",
      "\n",
      " The total number of Training Data : (13,)\n",
      "\n",
      " The total number of Test Data : (5,)\n",
      "\n",
      " The words or Tokens in the text documents \n",
      "\n",
      "['am', 'amazing', 'an', 'awesome', 'bad', 'best', 'boss', 'can', 'dance', 'deal', 'do', 'enemy', 'he', 'horrible', 'house', 'is', 'juice', 'like', 'locality', 'love', 'my', 'not', 'of', 'place', 'restaurant', 'sandwich', 'stay', 'stuff', 'sworn', 'taste', 'that', 'the', 'this', 'tired', 'to', 'today', 'view', 'went', 'what', 'with', 'work']\n",
      "\n",
      "Accuracy metrics\n",
      "Accuracy of the classifer is 0.6\n",
      "Recall : 0.5 \n",
      "Precison : 1.0\n",
      "Confusion matrix\n",
      "[[1 0]\n",
      " [2 2]]\n"
     ]
    }
   ],
   "source": [
    "import pandas as pd\n",
    "from sklearn.model_selection import train_test_split\n",
    "from sklearn.feature_extraction.text import CountVectorizer \n",
    "from sklearn.naive_bayes import MultinomialNB\n",
    "from sklearn import metrics\n",
    "\n",
    "msg=pd.read_csv('data6.csv',names=['message','label']) \n",
    "print('The dimensions of the dataset',msg.shape) \n",
    "msg['labelnum']=msg.label.map({'pos':1,'neg':0})\n",
    "X=msg.message \n",
    "y=msg.labelnum\n",
    "\n",
    "#splitting the dataset into train and test data\t \n",
    "xtrain,xtest,ytrain,ytest=train_test_split(X,y)\n",
    "print ('\\n The total number of Training Data :',ytrain.shape) \n",
    "print ('\\n The total number of Test Data :',ytest.shape)\n",
    "\n",
    "#output of count vectoriser is a sparse matrix\t \n",
    "cv = CountVectorizer()\n",
    "xtrain_dtm = cv.fit_transform(xtrain) \n",
    "xtest_dtm=cv.transform(xtest)\n",
    "print('\\n The words or Tokens in the text documents \\n') \n",
    "print(cv.get_feature_names())\n",
    "\n",
    "df=pd.DataFrame(xtrain_dtm.toarray(),columns=cv.get_feature_names())\n",
    "\n",
    "# Training Naive Bayes (NB) classifier on training data.\t \n",
    "clf = MultinomialNB().fit(xtrain_dtm,ytrain)\n",
    "predicted = clf.predict(xtest_dtm)\n",
    "\n",
    "#printing accuracy, Confusion matrix, Precision and Recall\t \n",
    "\n",
    "\n",
    "print('\\nAccuracy metrics')\n",
    "print('Accuracy of the classifer is',metrics.accuracy_score(ytest,predicted))\n",
    "print('Recall :',metrics.recall_score(ytest,predicted), '\\nPrecison :',metrics.precision_score(ytest,predicted))\n",
    "print('Confusion matrix')\n",
    "print(metrics.confusion_matrix(ytest,predicted))"
   ]
  },
  {
   "cell_type": "code",
   "execution_count": null,
   "metadata": {},
   "outputs": [],
   "source": []
  }
 ],
 "metadata": {
  "kernelspec": {
   "display_name": "Python 3",
   "language": "python",
   "name": "python3"
  },
  "language_info": {
   "codemirror_mode": {
    "name": "ipython",
    "version": 3
   },
   "file_extension": ".py",
   "mimetype": "text/x-python",
   "name": "python",
   "nbconvert_exporter": "python",
   "pygments_lexer": "ipython3",
   "version": "3.8.3"
  }
 },
 "nbformat": 4,
 "nbformat_minor": 4
}
