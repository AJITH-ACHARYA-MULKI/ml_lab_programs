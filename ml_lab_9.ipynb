{
 "cells": [
  {
   "cell_type": "code",
   "execution_count": 2,
   "metadata": {},
   "outputs": [
    {
     "name": "stdout",
     "output_type": "stream",
     "text": [
      "Iris Data set loaded...\n",
      "Dataset is split into training and testing samples...\n",
      "Size of trainng data and its label (105, 4) (105,)\n",
      "Size of trainng data and its label (45, 4) (45,)\n",
      "Label 0 - setosa\n",
      "Label 1 - versicolor\n",
      "Label 2 - virginica\n",
      "Results of Classification using K-nn with K=1 \n",
      " Sample: [6.3 3.4 5.6 2.4]  Actual-label: 2  Predicted-label: 2\n",
      " Sample: [5.1 3.8 1.5 0.3]  Actual-label: 0  Predicted-label: 0\n",
      " Sample: [6.9 3.1 5.4 2.1]  Actual-label: 2  Predicted-label: 2\n",
      " Sample: [6.  2.7 5.1 1.6]  Actual-label: 1  Predicted-label: 2\n",
      " Sample: [6.4 3.1 5.5 1.8]  Actual-label: 2  Predicted-label: 2\n",
      " Sample: [6.  2.2 5.  1.5]  Actual-label: 2  Predicted-label: 1\n",
      " Sample: [5.8 2.7 5.1 1.9]  Actual-label: 2  Predicted-label: 2\n",
      " Sample: [5.5 2.6 4.4 1.2]  Actual-label: 1  Predicted-label: 1\n",
      " Sample: [4.8 3.  1.4 0.1]  Actual-label: 0  Predicted-label: 0\n",
      " Sample: [6.9 3.1 4.9 1.5]  Actual-label: 1  Predicted-label: 1\n",
      " Sample: [4.6 3.2 1.4 0.2]  Actual-label: 0  Predicted-label: 0\n",
      " Sample: [5.  3.6 1.4 0.2]  Actual-label: 0  Predicted-label: 0\n",
      " Sample: [6.3 2.7 4.9 1.8]  Actual-label: 2  Predicted-label: 2\n",
      " Sample: [6.1 2.6 5.6 1.4]  Actual-label: 2  Predicted-label: 2\n",
      " Sample: [5.4 3.7 1.5 0.2]  Actual-label: 0  Predicted-label: 0\n",
      " Sample: [5.  3.  1.6 0.2]  Actual-label: 0  Predicted-label: 0\n",
      " Sample: [4.5 2.3 1.3 0.3]  Actual-label: 0  Predicted-label: 0\n",
      " Sample: [6.5 3.  5.8 2.2]  Actual-label: 2  Predicted-label: 2\n",
      " Sample: [7.3 2.9 6.3 1.8]  Actual-label: 2  Predicted-label: 2\n",
      " Sample: [7.1 3.  5.9 2.1]  Actual-label: 2  Predicted-label: 2\n",
      " Sample: [6.2 2.2 4.5 1.5]  Actual-label: 1  Predicted-label: 1\n",
      " Sample: [4.4 3.2 1.3 0.2]  Actual-label: 0  Predicted-label: 0\n",
      " Sample: [6.1 2.8 4.  1.3]  Actual-label: 1  Predicted-label: 1\n",
      " Sample: [6.2 2.8 4.8 1.8]  Actual-label: 2  Predicted-label: 2\n",
      " Sample: [6.7 3.1 4.4 1.4]  Actual-label: 1  Predicted-label: 1\n",
      " Sample: [4.9 3.6 1.4 0.1]  Actual-label: 0  Predicted-label: 0\n",
      " Sample: [6.6 3.  4.4 1.4]  Actual-label: 1  Predicted-label: 1\n",
      " Sample: [6.9 3.2 5.7 2.3]  Actual-label: 2  Predicted-label: 2\n",
      " Sample: [6.5 3.  5.2 2. ]  Actual-label: 2  Predicted-label: 2\n",
      " Sample: [6.3 3.3 6.  2.5]  Actual-label: 2  Predicted-label: 2\n",
      " Sample: [5.6 2.9 3.6 1.3]  Actual-label: 1  Predicted-label: 1\n",
      " Sample: [5.8 2.6 4.  1.2]  Actual-label: 1  Predicted-label: 1\n",
      " Sample: [5.9 3.2 4.8 1.8]  Actual-label: 1  Predicted-label: 2\n",
      " Sample: [4.9 3.  1.4 0.2]  Actual-label: 0  Predicted-label: 0\n",
      " Sample: [5.9 3.  5.1 1.8]  Actual-label: 2  Predicted-label: 2\n",
      " Sample: [6.4 2.8 5.6 2.2]  Actual-label: 2  Predicted-label: 2\n",
      " Sample: [6.4 3.2 4.5 1.5]  Actual-label: 1  Predicted-label: 1\n",
      " Sample: [5.4 3.9 1.3 0.4]  Actual-label: 0  Predicted-label: 0\n",
      " Sample: [7.2 3.2 6.  1.8]  Actual-label: 2  Predicted-label: 2\n",
      " Sample: [4.7 3.2 1.6 0.2]  Actual-label: 0  Predicted-label: 0\n",
      " Sample: [6.4 2.7 5.3 1.9]  Actual-label: 2  Predicted-label: 2\n",
      " Sample: [6.3 3.3 4.7 1.6]  Actual-label: 1  Predicted-label: 1\n",
      " Sample: [5.1 3.4 1.5 0.2]  Actual-label: 0  Predicted-label: 0\n",
      " Sample: [5.  3.4 1.5 0.2]  Actual-label: 0  Predicted-label: 0\n",
      " Sample: [5.4 3.4 1.7 0.2]  Actual-label: 0  Predicted-label: 0\n",
      "Classification Accuracy : 93.33333333333333\n"
     ]
    }
   ],
   "source": [
    "from sklearn.model_selection import train_test_split \n",
    "from sklearn.neighbors import KNeighborsClassifier\n",
    "#from sklearn.naive_bayes import GaussianNB\n",
    "from sklearn import datasets\n",
    "\n",
    "iris=datasets.load_iris()\n",
    "print(\"Iris Data set loaded...\")\n",
    "\n",
    "x_train, x_test, y_train, y_test = train_test_split(iris.data,iris.target,test_size=0.3)\n",
    "#random_state=0\n",
    "print(\"Dataset is split into training and testing samples...\") \n",
    "print(\"Size of trainng data and its label\",x_train.shape,y_train.shape) \n",
    "print(\"Size of trainng data and its label\",x_test.shape, y_test.shape) \n",
    "for i in range(len(iris.target_names)):\n",
    "    print(\"Label\", i , \"-\",str(iris.target_names[i])) \n",
    "classifier = KNeighborsClassifier(n_neighbors=1)\n",
    "#gnb = GaussianNB()\n",
    "#y_pred = gnb.fit(x_train, y_train).predict(x_test)\n",
    "#print(\"Number of mislabeled points out of a total %d points : %d\" %(x_test.shape[0], (y_test != y_pred).sum()))\n",
    "classifier.fit(x_train, y_train)\n",
    "y_pred=classifier.predict(x_test)\n",
    "\n",
    "print(\"Results of Classification using K-nn with K=1 \") \n",
    "for r in range(0,len(x_test)):\n",
    "    print(\" Sample:\", str(x_test[r]), \" Actual-label:\", str(y_test[r]), \" Predicted-label:\", str(y_pred[r]))\n",
    "\n",
    "print(\"Classification Accuracy :\" , classifier.score(x_test,y_test)*100);"
   ]
  },
  {
   "cell_type": "code",
   "execution_count": null,
   "metadata": {},
   "outputs": [],
   "source": []
  }
 ],
 "metadata": {
  "kernelspec": {
   "display_name": "Python 3",
   "language": "python",
   "name": "python3"
  },
  "language_info": {
   "codemirror_mode": {
    "name": "ipython",
    "version": 3
   },
   "file_extension": ".py",
   "mimetype": "text/x-python",
   "name": "python",
   "nbconvert_exporter": "python",
   "pygments_lexer": "ipython3",
   "version": "3.8.3"
  }
 },
 "nbformat": 4,
 "nbformat_minor": 4
}
